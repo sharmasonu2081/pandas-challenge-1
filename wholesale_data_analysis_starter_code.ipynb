{
 "cells": [
  {
   "cell_type": "markdown",
   "id": "dc0318d6",
   "metadata": {},
   "source": [
    "## Part 1: Explore the Data\n",
    "\n",
    "Import the data and use Pandas to learn more about the dataset."
   ]
  },
  {
   "cell_type": "code",
   "execution_count": 246,
   "id": "e076f57f",
   "metadata": {},
   "outputs": [
    {
     "data": {
      "text/html": [
       "<div>\n",
       "<style scoped>\n",
       "    .dataframe tbody tr th:only-of-type {\n",
       "        vertical-align: middle;\n",
       "    }\n",
       "\n",
       "    .dataframe tbody tr th {\n",
       "        vertical-align: top;\n",
       "    }\n",
       "\n",
       "    .dataframe thead th {\n",
       "        text-align: right;\n",
       "    }\n",
       "</style>\n",
       "<table border=\"1\" class=\"dataframe\">\n",
       "  <thead>\n",
       "    <tr style=\"text-align: right;\">\n",
       "      <th></th>\n",
       "      <th>first</th>\n",
       "      <th>last</th>\n",
       "      <th>job</th>\n",
       "      <th>phone</th>\n",
       "      <th>email</th>\n",
       "      <th>client_id</th>\n",
       "      <th>order_id</th>\n",
       "      <th>order_date</th>\n",
       "      <th>order_week</th>\n",
       "      <th>order_year</th>\n",
       "      <th>item_id</th>\n",
       "      <th>category</th>\n",
       "      <th>subcategory</th>\n",
       "      <th>unit_price</th>\n",
       "      <th>unit_cost</th>\n",
       "      <th>unit_weight</th>\n",
       "      <th>qty</th>\n",
       "      <th>line_number</th>\n",
       "    </tr>\n",
       "  </thead>\n",
       "  <tbody>\n",
       "    <tr>\n",
       "      <th>0</th>\n",
       "      <td>Donald</td>\n",
       "      <td>Harding</td>\n",
       "      <td>Immunologist</td>\n",
       "      <td>793-904-7725x39308</td>\n",
       "      <td>harding.donald.7185@sullivan.com</td>\n",
       "      <td>58515</td>\n",
       "      <td>8953482</td>\n",
       "      <td>2023-04-28</td>\n",
       "      <td>17</td>\n",
       "      <td>2023</td>\n",
       "      <td>EUD29711-63-6U</td>\n",
       "      <td>decor</td>\n",
       "      <td>wall art</td>\n",
       "      <td>1096.80</td>\n",
       "      <td>762.71</td>\n",
       "      <td>7.50</td>\n",
       "      <td>105</td>\n",
       "      <td>1</td>\n",
       "    </tr>\n",
       "    <tr>\n",
       "      <th>1</th>\n",
       "      <td>Tiffany</td>\n",
       "      <td>Myers</td>\n",
       "      <td>Music therapist</td>\n",
       "      <td>201.442.4543x942</td>\n",
       "      <td>myers.t.6537@ferguson-johnson.net</td>\n",
       "      <td>37609</td>\n",
       "      <td>8069089</td>\n",
       "      <td>2023-05-19</td>\n",
       "      <td>20</td>\n",
       "      <td>2023</td>\n",
       "      <td>XDA18116-89-4A</td>\n",
       "      <td>consumables</td>\n",
       "      <td>pens</td>\n",
       "      <td>24.95</td>\n",
       "      <td>15.09</td>\n",
       "      <td>1.49</td>\n",
       "      <td>21</td>\n",
       "      <td>0</td>\n",
       "    </tr>\n",
       "    <tr>\n",
       "      <th>2</th>\n",
       "      <td>Shannon</td>\n",
       "      <td>Watson</td>\n",
       "      <td>Immunologist</td>\n",
       "      <td>687.737.9424x8503</td>\n",
       "      <td>swatson8146@payne.net</td>\n",
       "      <td>57113</td>\n",
       "      <td>1902144</td>\n",
       "      <td>2023-01-29</td>\n",
       "      <td>4</td>\n",
       "      <td>2023</td>\n",
       "      <td>ABE59463-05-7E</td>\n",
       "      <td>software</td>\n",
       "      <td>project management</td>\n",
       "      <td>13.52</td>\n",
       "      <td>7.86</td>\n",
       "      <td>1.68</td>\n",
       "      <td>39</td>\n",
       "      <td>6</td>\n",
       "    </tr>\n",
       "    <tr>\n",
       "      <th>3</th>\n",
       "      <td>Nathan</td>\n",
       "      <td>Baker</td>\n",
       "      <td>Accounting technician</td>\n",
       "      <td>827-788-8123x012</td>\n",
       "      <td>bakernathan@benson.com</td>\n",
       "      <td>46554</td>\n",
       "      <td>9031802</td>\n",
       "      <td>2023-04-25</td>\n",
       "      <td>17</td>\n",
       "      <td>2023</td>\n",
       "      <td>ZMM00836-65-0C</td>\n",
       "      <td>consumables</td>\n",
       "      <td>pens</td>\n",
       "      <td>36.42</td>\n",
       "      <td>24.85</td>\n",
       "      <td>1.23</td>\n",
       "      <td>29</td>\n",
       "      <td>3</td>\n",
       "    </tr>\n",
       "    <tr>\n",
       "      <th>4</th>\n",
       "      <td>Christina</td>\n",
       "      <td>Schwartz</td>\n",
       "      <td>Chiropractor</td>\n",
       "      <td>265-829-3643</td>\n",
       "      <td>christinaschwartz9252@mcconnell.com</td>\n",
       "      <td>92089</td>\n",
       "      <td>1322274</td>\n",
       "      <td>2023-05-28</td>\n",
       "      <td>21</td>\n",
       "      <td>2023</td>\n",
       "      <td>BZX55559-12-3X</td>\n",
       "      <td>consumables</td>\n",
       "      <td>misc</td>\n",
       "      <td>195.10</td>\n",
       "      <td>108.17</td>\n",
       "      <td>46.43</td>\n",
       "      <td>20</td>\n",
       "      <td>1</td>\n",
       "    </tr>\n",
       "  </tbody>\n",
       "</table>\n",
       "</div>"
      ],
      "text/plain": [
       "       first      last                    job               phone                                email  client_id  order_id  order_date  order_week  order_year         item_id     category         subcategory  unit_price  unit_cost  unit_weight  qty  line_number\n",
       "0     Donald   Harding           Immunologist  793-904-7725x39308     harding.donald.7185@sullivan.com      58515   8953482  2023-04-28          17        2023  EUD29711-63-6U        decor            wall art     1096.80     762.71         7.50  105            1\n",
       "1    Tiffany     Myers        Music therapist    201.442.4543x942    myers.t.6537@ferguson-johnson.net      37609   8069089  2023-05-19          20        2023  XDA18116-89-4A  consumables                pens       24.95      15.09         1.49   21            0\n",
       "2    Shannon    Watson           Immunologist   687.737.9424x8503                swatson8146@payne.net      57113   1902144  2023-01-29           4        2023  ABE59463-05-7E     software  project management       13.52       7.86         1.68   39            6\n",
       "3     Nathan     Baker  Accounting technician    827-788-8123x012               bakernathan@benson.com      46554   9031802  2023-04-25          17        2023  ZMM00836-65-0C  consumables                pens       36.42      24.85         1.23   29            3\n",
       "4  Christina  Schwartz           Chiropractor        265-829-3643  christinaschwartz9252@mcconnell.com      92089   1322274  2023-05-28          21        2023  BZX55559-12-3X  consumables                misc      195.10     108.17        46.43   20            1"
      ]
     },
     "execution_count": 246,
     "metadata": {},
     "output_type": "execute_result"
    }
   ],
   "source": [
    "import pandas as pd\n",
    "\n",
    "df = pd.read_csv('client_dataset.csv')\n",
    "\n",
    "df.head()\n"
   ]
  },
  {
   "cell_type": "code",
   "execution_count": 247,
   "id": "71b9bbd2",
   "metadata": {},
   "outputs": [
    {
     "name": "stdout",
     "output_type": "stream",
     "text": [
      "['first', 'last', 'job', 'phone', 'email', 'client_id', 'order_id', 'order_date', 'order_week', 'order_year', 'item_id', 'category', 'subcategory', 'unit_price', 'unit_cost', 'unit_weight', 'qty', 'line_number']\n"
     ]
    }
   ],
   "source": [
    "# View the column names in the data\n",
    "print(df.columns.tolist())\n"
   ]
  },
  {
   "cell_type": "code",
   "execution_count": 248,
   "id": "bc0f4172",
   "metadata": {},
   "outputs": [
    {
     "name": "stdout",
     "output_type": "stream",
     "text": [
      "      client_id    order_id order_week order_year unit_price unit_cost unit_weight         qty line_number\n",
      "count  54639.00    54639.00   54639.00   54639.00   54639.00  54639.00    54639.00    54639.00    54639.00\n",
      "mean   54837.87  5470190.03      11.36    2022.99     136.27     99.45        5.00      570.26        2.98\n",
      "std    25487.44  2599806.93       7.02       0.08     183.87    133.16        5.33    18795.52        2.44\n",
      "min    10033.00  1000886.00       1.00    2022.00       0.01      0.01        0.00        0.00        0.00\n",
      "25%    33593.00  3196372.00       6.00    2023.00      20.80     14.84        1.45       32.00        1.00\n",
      "50%    53305.00  5496966.00      11.00    2023.00      68.31     49.89        3.24       68.00        3.00\n",
      "75%    78498.00  7733869.00      17.00    2023.00     173.16    125.57        6.89      170.00        5.00\n",
      "max    99984.00  9998480.00      52.00    2023.00    1396.23    846.27       46.43  3958244.00        9.00\n"
     ]
    },
    {
     "name": "stderr",
     "output_type": "stream",
     "text": [
      "C:\\Users\\sharm\\AppData\\Local\\Temp\\ipykernel_23044\\863724758.py:3: FutureWarning: DataFrame.applymap has been deprecated. Use DataFrame.map instead.\n",
      "  formatted_stats = basic_statistics.applymap(\"{0:.2f}\".format)\n"
     ]
    }
   ],
   "source": [
    "# Use the describe function to gather some basic statistics\n",
    "basic_statistics = df.describe()\n",
    "formatted_stats = basic_statistics.applymap(\"{0:.2f}\".format)\n",
    "print(formatted_stats.to_string())"
   ]
  },
  {
   "cell_type": "code",
   "execution_count": 249,
   "id": "b24b53cc",
   "metadata": {},
   "outputs": [
    {
     "name": "stdout",
     "output_type": "stream",
     "text": [
      "       first      last                    job               phone                                email  client_id  order_id  order_date  order_week  order_year         item_id     category         subcategory  unit_price  unit_cost  unit_weight  qty  line_number\n",
      "0     Donald   Harding           Immunologist  793-904-7725x39308     harding.donald.7185@sullivan.com      58515   8953482  2023-04-28          17        2023  EUD29711-63-6U        decor            wall art     1096.80     762.71         7.50  105            1\n",
      "1    Tiffany     Myers        Music therapist    201.442.4543x942    myers.t.6537@ferguson-johnson.net      37609   8069089  2023-05-19          20        2023  XDA18116-89-4A  consumables                pens       24.95      15.09         1.49   21            0\n",
      "2    Shannon    Watson           Immunologist   687.737.9424x8503                swatson8146@payne.net      57113   1902144  2023-01-29           4        2023  ABE59463-05-7E     software  project management       13.52       7.86         1.68   39            6\n",
      "3     Nathan     Baker  Accounting technician    827-788-8123x012               bakernathan@benson.com      46554   9031802  2023-04-25          17        2023  ZMM00836-65-0C  consumables                pens       36.42      24.85         1.23   29            3\n",
      "4  Christina  Schwartz           Chiropractor        265-829-3643  christinaschwartz9252@mcconnell.com      92089   1322274  2023-05-28          21        2023  BZX55559-12-3X  consumables                misc      195.10     108.17        46.43   20            1\n",
      "first           object\n",
      "last            object\n",
      "job             object\n",
      "phone           object\n",
      "email           object\n",
      "client_id        int64\n",
      "order_id         int64\n",
      "order_date      object\n",
      "order_week       int64\n",
      "order_year       int64\n",
      "item_id         object\n",
      "category        object\n",
      "subcategory     object\n",
      "unit_price     float64\n",
      "unit_cost      float64\n",
      "unit_weight    float64\n",
      "qty              int64\n",
      "line_number      int64\n",
      "dtype: object\n",
      "first          0\n",
      "last           0\n",
      "job            0\n",
      "phone          0\n",
      "email          0\n",
      "client_id      0\n",
      "order_id       0\n",
      "order_date     0\n",
      "order_week     0\n",
      "order_year     0\n",
      "item_id        0\n",
      "category       0\n",
      "subcategory    0\n",
      "unit_price     0\n",
      "unit_cost      0\n",
      "unit_weight    0\n",
      "qty            0\n",
      "line_number    0\n",
      "dtype: int64\n",
      "first            360\n",
      "last             477\n",
      "job              498\n",
      "phone            999\n",
      "email            999\n",
      "client_id        999\n",
      "order_id       10000\n",
      "order_date       150\n",
      "order_week        23\n",
      "order_year         2\n",
      "item_id          500\n",
      "category           5\n",
      "subcategory       18\n",
      "unit_price       490\n",
      "unit_cost        487\n",
      "unit_weight      393\n",
      "qty             2911\n",
      "line_number       10\n",
      "dtype: int64\n",
      "category\n",
      "consumables    23538\n",
      "furniture      11915\n",
      "software        8400\n",
      "decor           7954\n",
      "electronics     2832\n",
      "Name: count, dtype: int64\n",
      "Unique entries in category:\n",
      "['decor' 'consumables' 'software' 'furniture' 'electronics']\n",
      "Unique entries in subcategory:\n",
      "['wall art' 'pens' 'project management' 'misc' 'plants' 'kitchen supplies'\n",
      " 'paper products' 'seating' 'computers' 'stands' 'tables'\n",
      " 'bathroom supplies' 'audio visual' 'accounting' 'logistics' 'telecom'\n",
      " 'desks' 'cabling']\n",
      "Summary of quantities:\n",
      "sum     3.115869e+07\n",
      "mean    5.702646e+02\n",
      "std     1.879552e+04\n",
      "Name: qty, dtype: float64\n",
      "Summary of unit prices:\n",
      "sum     7.445504e+06\n",
      "mean    1.362672e+02\n",
      "std     1.838731e+02\n",
      "Name: unit_price, dtype: float64\n",
      "Details of a specific order:\n",
      "Empty DataFrame\n",
      "Columns: [first, last, job, phone, email, client_id, order_id, order_date, order_week, order_year, item_id, category, subcategory, unit_price, unit_cost, unit_weight, qty, line_number]\n",
      "Index: []\n",
      "Entries for a specific client:\n",
      "Empty DataFrame\n",
      "Columns: [first, last, job, phone, email, client_id, order_id, order_date, order_week, order_year, item_id, category, subcategory, unit_price, unit_cost, unit_weight, qty, line_number]\n",
      "Index: []\n"
     ]
    }
   ],
   "source": [
    "# Use this space to do any additional research\n",
    "# and familiarize yourself with the data.\n",
    "# Display the first few rows to understand the dataset's layout\n",
    "print(df.head())\n",
    "\n",
    "# Display the data types of each column to identify data types\n",
    "print(df.dtypes)\n",
    "\n",
    "# Check for missing values in each column\n",
    "print(df.isnull().sum())\n",
    "\n",
    "# Get a count of unique values in each column to find diversity or identify categorical variables\n",
    "print(df.nunique())\n",
    "\n",
    "# Display the frequency of categories to understand the distribution of categorical data\n",
    "# Assuming 'category' is one of the columns\n",
    "print(df['category'].value_counts())\n",
    "\n",
    "# Explore a few entries for each categorical variable to see example entries\n",
    "# Replace 'category' and 'subcategory' with the actual column names of your categorical data\n",
    "for col in ['category', 'subcategory']:\n",
    "    print(f\"Unique entries in {col}:\")\n",
    "    print(df[col].unique())\n",
    "# Summarize key quantitative information\n",
    "# For example, summarizing total quantity and unit price\n",
    "print(\"Summary of quantities:\")\n",
    "print(df['qty'].agg(['sum', 'mean', 'std']))\n",
    "\n",
    "print(\"Summary of unit prices:\")\n",
    "print(df['unit_price'].agg(['sum', 'mean', 'std']))\n",
    "\n",
    "# Inspect any particular order or client with many entries\n",
    "# Replace 'order_id' and 'client_id' with actual values you wish to inspect\n",
    "print(\"Details of a specific order:\")\n",
    "print(df[df['order_id'] == 123456789])  # replace with an actual order_id\n",
    "\n",
    "print(\"Entries for a specific client:\")\n",
    "print(df[df['client_id'] == 12345])  # replace with an actual client_id\n"
   ]
  },
  {
   "cell_type": "code",
   "execution_count": 250,
   "id": "551cb358",
   "metadata": {},
   "outputs": [
    {
     "name": "stdout",
     "output_type": "stream",
     "text": [
      "category\n",
      "consumables    23538\n",
      "furniture      11915\n",
      "software        8400\n",
      "Name: count, dtype: int64\n"
     ]
    }
   ],
   "source": [
    "# What three item categories had the most entries?\n",
    "top_three_categories = df['category'].value_counts().head(3)\n",
    "print(top_three_categories)\n"
   ]
  },
  {
   "cell_type": "code",
   "execution_count": 251,
   "id": "5f54e2cf",
   "metadata": {},
   "outputs": [
    {
     "name": "stdout",
     "output_type": "stream",
     "text": [
      "In the top category 'consumables', the subcategory with the most entries is: bathroom supplies\n"
     ]
    }
   ],
   "source": [
    "# For the category with the most entries,\n",
    "# which subcategory had the most entries?\n",
    "\n",
    "top_category = df['category'].value_counts().idxmax()\n",
    "top_subcategory = df[df['category'] == top_category]['subcategory'].value_counts().idxmax()\n",
    "print(f\"In the top category '{top_category}', the subcategory with the most entries is: {top_subcategory}\")"
   ]
  },
  {
   "cell_type": "code",
   "execution_count": 252,
   "id": "2db94379",
   "metadata": {},
   "outputs": [
    {
     "name": "stdout",
     "output_type": "stream",
     "text": [
      "client_id\n",
      "33615    220\n",
      "66037    211\n",
      "46820    209\n",
      "38378    207\n",
      "24741    207\n",
      "Name: count, dtype: int64\n"
     ]
    }
   ],
   "source": [
    "# Which five clients had the most entries in the data?\n",
    "\n",
    "top_five_clients = df['client_id'].value_counts().head(5)\n",
    "print(top_five_clients)"
   ]
  },
  {
   "cell_type": "code",
   "execution_count": 253,
   "id": "a6635601",
   "metadata": {},
   "outputs": [
    {
     "name": "stdout",
     "output_type": "stream",
     "text": [
      "Client IDs of the top five clients with the most entries: [33615, 66037, 46820, 38378, 24741]\n"
     ]
    }
   ],
   "source": [
    "# Store the client ids of those top 5 clients in a list.\n",
    "top_five_client_ids = top_five_clients.index.tolist()\n",
    "print(\"Client IDs of the top five clients with the most entries:\", top_five_client_ids)\n"
   ]
  },
  {
   "cell_type": "code",
   "execution_count": 254,
   "id": "c88b8a3e",
   "metadata": {},
   "outputs": [
    {
     "name": "stdout",
     "output_type": "stream",
     "text": [
      "Total units ordered by the top client (Client ID: 33615): 64313\n"
     ]
    }
   ],
   "source": [
    "# How many total units (the qty column) did the\n",
    "# client with the most entries order order?\n",
    "\n",
    "top_client_id = df['client_id'].value_counts().idxmax()\n",
    "total_units_top_client = df[df['client_id'] == top_client_id]['qty'].sum()\n",
    "print(f\"Total units ordered by the top client (Client ID: {top_client_id}): {total_units_top_client}\")"
   ]
  },
  {
   "cell_type": "markdown",
   "id": "257fcd7d",
   "metadata": {},
   "source": [
    "## Part 2: Transform the Data\n",
    "Do we know that this client spent the more money than client 66037? If not, how would we find out? Transform the data using the steps below to prepare it for analysis."
   ]
  },
  {
   "cell_type": "code",
   "execution_count": 255,
   "id": "0c25c4a8",
   "metadata": {},
   "outputs": [
    {
     "name": "stdout",
     "output_type": "stream",
     "text": [
      "Subtotals added to DataFrame:\n",
      "   unit_price  qty   subtotal\n",
      "0     1096.80  105  115164.00\n",
      "1       24.95   21     523.95\n",
      "2       13.52   39     527.28\n",
      "3       36.42   29    1056.18\n",
      "4      195.10   20    3902.00\n"
     ]
    }
   ],
   "source": [
    "# Create a column that calculates the \n",
    "# subtotal for each line using the unit_price\n",
    "# and the qty\n",
    "\n",
    "df['subtotal'] = df['unit_price'] * df['qty']\n",
    "print(\"Subtotals added to DataFrame:\")\n",
    "print(df[['unit_price', 'qty', 'subtotal']].head())"
   ]
  },
  {
   "cell_type": "code",
   "execution_count": 256,
   "id": "ac9dafc8",
   "metadata": {},
   "outputs": [
    {
     "name": "stdout",
     "output_type": "stream",
     "text": [
      "   unit_weight  qty  shipping_price\n",
      "0         7.50  105         5512.50\n",
      "1         1.49   21          312.90\n",
      "2         1.68   39          458.64\n",
      "3         1.23   29          356.70\n",
      "4        46.43   20         6500.20\n"
     ]
    }
   ],
   "source": [
    "# Create a column for shipping price.\n",
    "# Assume a shipping price of $7 per pound\n",
    "# for orders over 50 pounds and $10 per\n",
    "# pound for items 50 pounds or under.\n",
    "# shipping price must show the total shipping price.\n",
    "\n",
    "df['shipping_price'] = df.apply(lambda x: (x['unit_weight'] * x['qty']) * 7 if (x['unit_weight'] * x['qty']) > 50 else (x['unit_weight'] * x['qty']) * 10, axis=1)\n",
    "print(df[['unit_weight', 'qty', 'shipping_price']].head())"
   ]
  },
  {
   "cell_type": "code",
   "execution_count": 257,
   "id": "77f42c67",
   "metadata": {},
   "outputs": [
    {
     "name": "stdout",
     "output_type": "stream",
     "text": [
      "    subtotal  shipping_price    total_price\n",
      "0  115164.00         5512.50  131839.076250\n",
      "1     523.95          312.90     914.258625\n",
      "2     527.28          458.64    1077.117600\n",
      "3    1056.18          356.70    1543.571400\n",
      "4    3902.00         6500.20   11364.403500\n"
     ]
    }
   ],
   "source": [
    "# Create a column for the total price\n",
    "# using the subtotal and the shipping price\n",
    "# along with a sales tax of 9.25%\n",
    "\n",
    "# Apply the sales tax to the sum of 'subtotal' and 'shipping_price' to get the 'total_price'\n",
    "df['total_price'] = (df['subtotal'] + df['shipping_price']) * (1 + 0.0925)\n",
    "print(df[['subtotal', 'shipping_price', 'total_price']].head())"
   ]
  },
  {
   "cell_type": "code",
   "execution_count": 258,
   "id": "c82ad275",
   "metadata": {},
   "outputs": [
    {
     "name": "stdout",
     "output_type": "stream",
     "text": [
      "       first      last                    job               phone                                email  client_id  order_id  order_date  order_week  order_year         item_id     category         subcategory  unit_price  unit_cost  unit_weight  qty  line_number   subtotal  shipping_price    total_price  line_cost\n",
      "0     Donald   Harding           Immunologist  793-904-7725x39308     harding.donald.7185@sullivan.com      58515   8953482  2023-04-28          17        2023  EUD29711-63-6U        decor            wall art     1096.80     762.71         7.50  105            1  115164.00         5512.50  131839.076250   85597.05\n",
      "1    Tiffany     Myers        Music therapist    201.442.4543x942    myers.t.6537@ferguson-johnson.net      37609   8069089  2023-05-19          20        2023  XDA18116-89-4A  consumables                pens       24.95      15.09         1.49   21            0     523.95          312.90     914.258625     629.79\n",
      "2    Shannon    Watson           Immunologist   687.737.9424x8503                swatson8146@payne.net      57113   1902144  2023-01-29           4        2023  ABE59463-05-7E     software  project management       13.52       7.86         1.68   39            6     527.28          458.64    1077.117600     765.18\n",
      "3     Nathan     Baker  Accounting technician    827-788-8123x012               bakernathan@benson.com      46554   9031802  2023-04-25          17        2023  ZMM00836-65-0C  consumables                pens       36.42      24.85         1.23   29            3    1056.18          356.70    1543.571400    1077.35\n",
      "4  Christina  Schwartz           Chiropractor        265-829-3643  christinaschwartz9252@mcconnell.com      92089   1322274  2023-05-28          21        2023  BZX55559-12-3X  consumables                misc      195.10     108.17        46.43   20            1    3902.00         6500.20   11364.403500    8663.60\n"
     ]
    }
   ],
   "source": [
    "# Create a column for the cost\n",
    "# of each line using unit cost, qty, and\n",
    "# shipping price (assume the shipping cost\n",
    "# is exactly what is charged to the client).\n",
    "df['line_cost'] = (df['unit_cost'] * df['qty']) + df['shipping_price']\n",
    "pd.set_option('display.max_columns', None)\n",
    "print(df.head())\n"
   ]
  },
  {
   "cell_type": "code",
   "execution_count": 259,
   "id": "e2389018",
   "metadata": {},
   "outputs": [
    {
     "name": "stdout",
     "output_type": "stream",
     "text": [
      "     total_price  line_cost        profit\n",
      "0  131839.076250   85597.05  46242.026250\n",
      "1     914.258625     629.79    284.468625\n",
      "2    1077.117600     765.18    311.937600\n",
      "3    1543.571400    1077.35    466.221400\n",
      "4   11364.403500    8663.60   2700.803500\n"
     ]
    }
   ],
   "source": [
    "# Create a column for the profit of\n",
    "# each line using line cost and line price\n",
    "\n",
    "\n",
    "df['profit'] = df['total_price'] - df['line_cost']\n",
    "\n",
    "\n",
    "print(df[['total_price', 'line_cost', 'profit']].head())"
   ]
  },
  {
   "cell_type": "markdown",
   "id": "ef6f62b1",
   "metadata": {},
   "source": [
    "## Part 3: Confirm your work\n",
    "You have email receipts showing that the total prices for 3 orders. Confirm that your calculations match the receipts. Remember, each order has multiple lines.\n",
    "\n",
    "Order ID 2742071 had a total price of \\$152,811.89\n",
    "\n",
    "Order ID 2173913 had a total price of \\$162,388.71\n",
    "\n",
    "Order ID 6128929 had a total price of \\$923,441.25\n"
   ]
  },
  {
   "cell_type": "code",
   "execution_count": 260,
   "id": "c0e5d68e",
   "metadata": {},
   "outputs": [
    {
     "name": "stdout",
     "output_type": "stream",
     "text": [
      "Order ID 2742071: Calculated total is $152811.90, Provided total is $152811.89.\n",
      "The totals match!\n",
      "\n",
      "Order ID 2173913: Calculated total is $162388.72, Provided total is $162388.71.\n",
      "The totals match!\n",
      "\n",
      "Order ID 6128929: Calculated total is $923441.24, Provided total is $923441.25.\n",
      "The totals match!\n",
      "\n"
     ]
    }
   ],
   "source": [
    "# Check your work using the totals above\n",
    "# Calculate the sum of 'total_price' for each of the provided order IDs\n",
    "order_totals = df.groupby('order_id')['total_price'].sum()\n",
    "\n",
    "# Now we'll check each one against the provided totals\n",
    "orders_to_check = {\n",
    "    2742071: 152811.89,\n",
    "    2173913: 162388.71,\n",
    "    6128929: 923441.25\n",
    "}\n",
    "\n",
    "# Iterate over the orders and compare the calculated totals to the provided totals\n",
    "for order_id, provided_total in orders_to_check.items():\n",
    "    calculated_total = order_totals.get(order_id, None)\n",
    "    if calculated_total is not None:\n",
    "        print(f\"Order ID {order_id}: Calculated total is ${calculated_total:.2f}, Provided total is ${provided_total:.2f}.\")\n",
    "        if abs(calculated_total - provided_total) < 0.01:\n",
    "            print(\"The totals match!\\n\")\n",
    "        else:\n",
    "            print(\"The totals do not match!\\n\")\n",
    "    else:\n",
    "        print(f\"Order ID {order_id} not found in the dataset.\\n\")"
   ]
  },
  {
   "cell_type": "markdown",
   "id": "b94d58ab",
   "metadata": {},
   "source": [
    "## Part 4: Summarize and Analyze\n",
    "Use the new columns with confirmed values to find the following information."
   ]
  },
  {
   "cell_type": "code",
   "execution_count": 261,
   "id": "7c005f34",
   "metadata": {},
   "outputs": [
    {
     "name": "stdout",
     "output_type": "stream",
     "text": [
      "Spending by top 5 clients:\n",
      "Client ID 33615 spent: $8377308.57\n",
      "Client ID 66037 spent: $10259514.80\n",
      "Client ID 46820 spent: $9743794.32\n",
      "Client ID 38378 spent: $12906550.88\n",
      "Client ID 24741 spent: $82268891.98\n"
     ]
    }
   ],
   "source": [
    "# How much did each of the top 5 clients by quantity\n",
    "# spend? Check your work from Part 1 for client ids.\n",
    "# Provided top 5 client IDs by quantity\n",
    "top_5_client_ids = [33615, 66037, 46820, 38378, 24741]\n",
    "\n",
    "# Calculate how much each of the top 5 clients spent\n",
    "spending_by_top_clients = df[df['client_id'].isin(top_5_client_ids)].groupby('client_id')['total_price'].sum()\n",
    "\n",
    "# Display the spending for each of the top 5 clients\n",
    "print(\"Spending by top 5 clients:\")\n",
    "for client_id in top_5_client_ids:\n",
    "    spending = spending_by_top_clients.loc[client_id]\n",
    "    print(f\"Client ID {client_id} spent: ${spending:.2f}\")\n"
   ]
  },
  {
   "cell_type": "code",
   "execution_count": 262,
   "id": "81b6e4d2",
   "metadata": {},
   "outputs": [
    {
     "data": {
      "text/html": [
       "<style type=\"text/css\">\n",
       "</style>\n",
       "<table id=\"T_0f1ca\">\n",
       "  <thead>\n",
       "    <tr>\n",
       "      <th class=\"blank level0\" >&nbsp;</th>\n",
       "      <th id=\"T_0f1ca_level0_col0\" class=\"col_heading level0 col0\" >Client ID</th>\n",
       "      <th id=\"T_0f1ca_level0_col1\" class=\"col_heading level0 col1\" >Total Units Purchased</th>\n",
       "      <th id=\"T_0f1ca_level0_col2\" class=\"col_heading level0 col2\" >Total Shipping Price (M$)</th>\n",
       "      <th id=\"T_0f1ca_level0_col3\" class=\"col_heading level0 col3\" >Total Revenue (M$)</th>\n",
       "      <th id=\"T_0f1ca_level0_col4\" class=\"col_heading level0 col4\" >Total Profit (M$)</th>\n",
       "    </tr>\n",
       "  </thead>\n",
       "  <tbody>\n",
       "    <tr>\n",
       "      <th id=\"T_0f1ca_level0_row0\" class=\"row_heading level0 row0\" >0</th>\n",
       "      <td id=\"T_0f1ca_row0_col0\" class=\"data row0 col0\" >24741</td>\n",
       "      <td id=\"T_0f1ca_row0_col1\" class=\"data row0 col1\" >239,862.00</td>\n",
       "      <td id=\"T_0f1ca_row0_col2\" class=\"data row0 col2\" >$5.13M</td>\n",
       "      <td id=\"T_0f1ca_row0_col3\" class=\"data row0 col3\" >$82.27M</td>\n",
       "      <td id=\"T_0f1ca_row0_col4\" class=\"data row0 col4\" >$36.58M</td>\n",
       "    </tr>\n",
       "    <tr>\n",
       "      <th id=\"T_0f1ca_level0_row1\" class=\"row_heading level0 row1\" >2</th>\n",
       "      <td id=\"T_0f1ca_row1_col0\" class=\"data row1 col0\" >38378</td>\n",
       "      <td id=\"T_0f1ca_row1_col1\" class=\"data row1 col1\" >73,667.00</td>\n",
       "      <td id=\"T_0f1ca_row1_col2\" class=\"data row1 col2\" >$3.43M</td>\n",
       "      <td id=\"T_0f1ca_row1_col3\" class=\"data row1 col3\" >$12.91M</td>\n",
       "      <td id=\"T_0f1ca_row1_col4\" class=\"data row1 col4\" >$3.27M</td>\n",
       "    </tr>\n",
       "    <tr>\n",
       "      <th id=\"T_0f1ca_level0_row2\" class=\"row_heading level0 row2\" >4</th>\n",
       "      <td id=\"T_0f1ca_row2_col0\" class=\"data row2 col0\" >66037</td>\n",
       "      <td id=\"T_0f1ca_row2_col1\" class=\"data row2 col1\" >43,018.00</td>\n",
       "      <td id=\"T_0f1ca_row2_col2\" class=\"data row2 col2\" >$1.4M</td>\n",
       "      <td id=\"T_0f1ca_row2_col3\" class=\"data row2 col3\" >$10.26M</td>\n",
       "      <td id=\"T_0f1ca_row2_col4\" class=\"data row2 col4\" >$3.26M</td>\n",
       "    </tr>\n",
       "    <tr>\n",
       "      <th id=\"T_0f1ca_level0_row3\" class=\"row_heading level0 row3\" >3</th>\n",
       "      <td id=\"T_0f1ca_row3_col0\" class=\"data row3 col0\" >46820</td>\n",
       "      <td id=\"T_0f1ca_row3_col1\" class=\"data row3 col1\" >75,768.00</td>\n",
       "      <td id=\"T_0f1ca_row3_col2\" class=\"data row3 col2\" >$1.6M</td>\n",
       "      <td id=\"T_0f1ca_row3_col3\" class=\"data row3 col3\" >$9.74M</td>\n",
       "      <td id=\"T_0f1ca_row3_col4\" class=\"data row3 col4\" >$2.74M</td>\n",
       "    </tr>\n",
       "    <tr>\n",
       "      <th id=\"T_0f1ca_level0_row4\" class=\"row_heading level0 row4\" >1</th>\n",
       "      <td id=\"T_0f1ca_row4_col0\" class=\"data row4 col0\" >33615</td>\n",
       "      <td id=\"T_0f1ca_row4_col1\" class=\"data row4 col1\" >64,313.00</td>\n",
       "      <td id=\"T_0f1ca_row4_col2\" class=\"data row4 col2\" >$1.83M</td>\n",
       "      <td id=\"T_0f1ca_row4_col3\" class=\"data row4 col3\" >$8.38M</td>\n",
       "      <td id=\"T_0f1ca_row4_col4\" class=\"data row4 col4\" >$2.2M</td>\n",
       "    </tr>\n",
       "  </tbody>\n",
       "</table>\n"
      ],
      "text/plain": [
       "<pandas.io.formats.style.Styler at 0x1ccda556590>"
      ]
     },
     "execution_count": 262,
     "metadata": {},
     "output_type": "execute_result"
    }
   ],
   "source": [
    "# Create a summary DataFrame showing the totals for the\n",
    "# for the top 5 clients with the following information:\n",
    "# total units purchased, total shipping price,\n",
    "# total revenue, and total profit. Sort by total profit.\n",
    "\n",
    "top_5_client_ids = [33615, 66037, 46820, 38378, 24741]\n",
    "\n",
    "\n",
    "top_5_df = df[df['client_id'].isin(top_5_client_ids)]\n",
    "\n",
    "\n",
    "summary_df = top_5_df.groupby('client_id').agg(\n",
    "    total_units_purchased=('qty', 'sum'),\n",
    "    total_shipping_price=('shipping_price', 'sum'),\n",
    "    total_revenue=('total_price', 'sum'),\n",
    "    total_profit=('profit', 'sum')\n",
    ").reset_index()\n",
    "\n",
    "\n",
    "formatted_summary = summary_sorted_by_profit.style.format({\n",
    "    'total_units_purchased': '{:.2f}',\n",
    "    'total_shipping_price': '{:.2f}',\n",
    "    'total_revenue': '{:.2f}',\n",
    "    'total_profit': '{:.2f}'\n",
    "})\n",
    "\n",
    "formatted_summary"
   ]
  },
  {
   "cell_type": "code",
   "execution_count": 265,
   "id": "7be02867",
   "metadata": {},
   "outputs": [],
   "source": [
    "# Format the data and rename the columns\n",
    "# to names suitable for presentation.\n",
    "# Currency should be in millions of dollars.\n",
    "df['Profit (M$)'] = df['profit'] / 1_000_000\n",
    "df['Profit (M$)'] = df['Profit (M$)'].round(2)\n",
    "\n",
    "df.rename(columns={'client_id': 'Client ID', 'qty': 'Units', }, inplace=True)"
   ]
  },
  {
   "cell_type": "code",
   "execution_count": 266,
   "id": "8ead0986",
   "metadata": {},
   "outputs": [
    {
     "name": "stdout",
     "output_type": "stream",
     "text": [
      "       Client ID    Units  Shipping (M$)  Total Revenue (M$)  Total Cost (M$)  Profit (M$)\n",
      "21801      78965  3958244           2.49              641.26           398.75       242.51\n",
      "15112      85931   637318           9.86              235.96           127.02       108.94\n",
      "25972      86721   977121          63.06              176.07           134.44        41.63\n",
      "23929      38473   219645           3.46              165.74           128.23        37.51\n",
      "4063       24741   122166           1.59               63.31            31.88        31.43\n"
     ]
    }
   ],
   "source": [
    "# Sort the updated data by \"Total Profit\" form highest to lowest\n",
    "# Rename columns for presentation\n",
    "# Sort the DataFrame by 'Profit (M$)' from highest to lowest\n",
    "# Convert 'profit' and 'shipping_price' to millions and round to two decimal places for presentation\n",
    "df['Profit (M$)'] = df['profit'] / 1_000_000\n",
    "df['Shipping (M$)'] = df['shipping_price'] / 1_000_000\n",
    "\n",
    "# Round values to two decimal places\n",
    "df['Profit (M$)'] = df['Profit (M$)'].round(2)\n",
    "df['Shipping (M$)'] = df['Shipping (M$)'].round(2)\n",
    "\n",
    "# Rename columns for clarity and presentation\n",
    "df.rename(columns={'client_id': 'Client ID', 'qty': 'Units'}, inplace=True)\n",
    "\n",
    "# If 'total_price' and 'line_cost' are to be included and need to be converted to millions, add those here:\n",
    "df['Total Revenue (M$)'] = df['total_price'] / 1_000_000\n",
    "df['Total Cost (M$)'] = df['line_cost'] / 1_000_000\n",
    "\n",
    "# Round values to two decimal places\n",
    "df['Total Revenue (M$)'] = df['Total Revenue (M$)'].round(2)\n",
    "df['Total Cost (M$)'] = df['Total Cost (M$)'].round(2)\n",
    "\n",
    "# Now sort the DataFrame by 'Profit (M$)' in descending order\n",
    "df_sorted_by_profit = df.sort_values(by='Profit (M$)', ascending=False)\n",
    "\n",
    "# Select the relevant columns to display\n",
    "df_final = df_sorted_by_profit[['Client ID', 'Units', 'Shipping (M$)', 'Total Revenue (M$)', 'Total Cost (M$)', 'Profit (M$)']]\n",
    "\n",
    "# Display the first few rows to verify\n",
    "print(df_final.head())\n"
   ]
  },
  {
   "cell_type": "code",
   "execution_count": null,
   "id": "6589d63c",
   "metadata": {},
   "outputs": [],
   "source": []
  }
 ],
 "metadata": {
  "kernelspec": {
   "display_name": "Python 3 (ipykernel)",
   "language": "python",
   "name": "python3"
  },
  "language_info": {
   "codemirror_mode": {
    "name": "ipython",
    "version": 3
   },
   "file_extension": ".py",
   "mimetype": "text/x-python",
   "name": "python",
   "nbconvert_exporter": "python",
   "pygments_lexer": "ipython3",
   "version": "3.10.13"
  }
 },
 "nbformat": 4,
 "nbformat_minor": 5
}

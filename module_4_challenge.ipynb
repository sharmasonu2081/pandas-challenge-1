{
 "cells": [
  {
   "cell_type": "markdown",
   "id": "dc0318d6",
   "metadata": {},
   "source": [
    "## Part 1: Explore the Data\n",
    "\n",
    "Import the data and use Pandas to learn more about the dataset."
   ]
  },
  {
   "cell_type": "code",
   "execution_count": 2,
   "id": "e076f57f",
   "metadata": {},
   "outputs": [
    {
     "data": {
      "text/html": [
       "<div>\n",
       "<style scoped>\n",
       "    .dataframe tbody tr th:only-of-type {\n",
       "        vertical-align: middle;\n",
       "    }\n",
       "\n",
       "    .dataframe tbody tr th {\n",
       "        vertical-align: top;\n",
       "    }\n",
       "\n",
       "    .dataframe thead th {\n",
       "        text-align: right;\n",
       "    }\n",
       "</style>\n",
       "<table border=\"1\" class=\"dataframe\">\n",
       "  <thead>\n",
       "    <tr style=\"text-align: right;\">\n",
       "      <th></th>\n",
       "      <th>first</th>\n",
       "      <th>last</th>\n",
       "      <th>job</th>\n",
       "      <th>phone</th>\n",
       "      <th>email</th>\n",
       "      <th>client_id</th>\n",
       "      <th>order_id</th>\n",
       "      <th>order_date</th>\n",
       "      <th>order_week</th>\n",
       "      <th>order_year</th>\n",
       "      <th>item_id</th>\n",
       "      <th>category</th>\n",
       "      <th>subcategory</th>\n",
       "      <th>unit_price</th>\n",
       "      <th>unit_cost</th>\n",
       "      <th>unit_weight</th>\n",
       "      <th>qty</th>\n",
       "      <th>line_number</th>\n",
       "    </tr>\n",
       "  </thead>\n",
       "  <tbody>\n",
       "    <tr>\n",
       "      <th>0</th>\n",
       "      <td>Donald</td>\n",
       "      <td>Harding</td>\n",
       "      <td>Immunologist</td>\n",
       "      <td>793-904-7725x39308</td>\n",
       "      <td>harding.donald.7185@sullivan.com</td>\n",
       "      <td>58515</td>\n",
       "      <td>8953482</td>\n",
       "      <td>2023-04-28</td>\n",
       "      <td>17</td>\n",
       "      <td>2023</td>\n",
       "      <td>EUD29711-63-6U</td>\n",
       "      <td>decor</td>\n",
       "      <td>wall art</td>\n",
       "      <td>1096.80</td>\n",
       "      <td>762.71</td>\n",
       "      <td>7.50</td>\n",
       "      <td>105</td>\n",
       "      <td>1</td>\n",
       "    </tr>\n",
       "    <tr>\n",
       "      <th>1</th>\n",
       "      <td>Tiffany</td>\n",
       "      <td>Myers</td>\n",
       "      <td>Music therapist</td>\n",
       "      <td>201.442.4543x942</td>\n",
       "      <td>myers.t.6537@ferguson-johnson.net</td>\n",
       "      <td>37609</td>\n",
       "      <td>8069089</td>\n",
       "      <td>2023-05-19</td>\n",
       "      <td>20</td>\n",
       "      <td>2023</td>\n",
       "      <td>XDA18116-89-4A</td>\n",
       "      <td>consumables</td>\n",
       "      <td>pens</td>\n",
       "      <td>24.95</td>\n",
       "      <td>15.09</td>\n",
       "      <td>1.49</td>\n",
       "      <td>21</td>\n",
       "      <td>0</td>\n",
       "    </tr>\n",
       "    <tr>\n",
       "      <th>2</th>\n",
       "      <td>Shannon</td>\n",
       "      <td>Watson</td>\n",
       "      <td>Immunologist</td>\n",
       "      <td>687.737.9424x8503</td>\n",
       "      <td>swatson8146@payne.net</td>\n",
       "      <td>57113</td>\n",
       "      <td>1902144</td>\n",
       "      <td>2023-01-29</td>\n",
       "      <td>4</td>\n",
       "      <td>2023</td>\n",
       "      <td>ABE59463-05-7E</td>\n",
       "      <td>software</td>\n",
       "      <td>project management</td>\n",
       "      <td>13.52</td>\n",
       "      <td>7.86</td>\n",
       "      <td>1.68</td>\n",
       "      <td>39</td>\n",
       "      <td>6</td>\n",
       "    </tr>\n",
       "    <tr>\n",
       "      <th>3</th>\n",
       "      <td>Nathan</td>\n",
       "      <td>Baker</td>\n",
       "      <td>Accounting technician</td>\n",
       "      <td>827-788-8123x012</td>\n",
       "      <td>bakernathan@benson.com</td>\n",
       "      <td>46554</td>\n",
       "      <td>9031802</td>\n",
       "      <td>2023-04-25</td>\n",
       "      <td>17</td>\n",
       "      <td>2023</td>\n",
       "      <td>ZMM00836-65-0C</td>\n",
       "      <td>consumables</td>\n",
       "      <td>pens</td>\n",
       "      <td>36.42</td>\n",
       "      <td>24.85</td>\n",
       "      <td>1.23</td>\n",
       "      <td>29</td>\n",
       "      <td>3</td>\n",
       "    </tr>\n",
       "    <tr>\n",
       "      <th>4</th>\n",
       "      <td>Christina</td>\n",
       "      <td>Schwartz</td>\n",
       "      <td>Chiropractor</td>\n",
       "      <td>265-829-3643</td>\n",
       "      <td>christinaschwartz9252@mcconnell.com</td>\n",
       "      <td>92089</td>\n",
       "      <td>1322274</td>\n",
       "      <td>2023-05-28</td>\n",
       "      <td>21</td>\n",
       "      <td>2023</td>\n",
       "      <td>BZX55559-12-3X</td>\n",
       "      <td>consumables</td>\n",
       "      <td>misc</td>\n",
       "      <td>195.10</td>\n",
       "      <td>108.17</td>\n",
       "      <td>46.43</td>\n",
       "      <td>20</td>\n",
       "      <td>1</td>\n",
       "    </tr>\n",
       "  </tbody>\n",
       "</table>\n",
       "</div>"
      ],
      "text/plain": [
       "       first      last                    job               phone  \\\n",
       "0     Donald   Harding           Immunologist  793-904-7725x39308   \n",
       "1    Tiffany     Myers        Music therapist    201.442.4543x942   \n",
       "2    Shannon    Watson           Immunologist   687.737.9424x8503   \n",
       "3     Nathan     Baker  Accounting technician    827-788-8123x012   \n",
       "4  Christina  Schwartz           Chiropractor        265-829-3643   \n",
       "\n",
       "                                 email  client_id  order_id  order_date  \\\n",
       "0     harding.donald.7185@sullivan.com      58515   8953482  2023-04-28   \n",
       "1    myers.t.6537@ferguson-johnson.net      37609   8069089  2023-05-19   \n",
       "2                swatson8146@payne.net      57113   1902144  2023-01-29   \n",
       "3               bakernathan@benson.com      46554   9031802  2023-04-25   \n",
       "4  christinaschwartz9252@mcconnell.com      92089   1322274  2023-05-28   \n",
       "\n",
       "   order_week  order_year         item_id     category         subcategory  \\\n",
       "0          17        2023  EUD29711-63-6U        decor            wall art   \n",
       "1          20        2023  XDA18116-89-4A  consumables                pens   \n",
       "2           4        2023  ABE59463-05-7E     software  project management   \n",
       "3          17        2023  ZMM00836-65-0C  consumables                pens   \n",
       "4          21        2023  BZX55559-12-3X  consumables                misc   \n",
       "\n",
       "   unit_price  unit_cost  unit_weight  qty  line_number  \n",
       "0     1096.80     762.71         7.50  105            1  \n",
       "1       24.95      15.09         1.49   21            0  \n",
       "2       13.52       7.86         1.68   39            6  \n",
       "3       36.42      24.85         1.23   29            3  \n",
       "4      195.10     108.17        46.43   20            1  "
      ]
     },
     "execution_count": 2,
     "metadata": {},
     "output_type": "execute_result"
    }
   ],
   "source": [
    "import pandas as pd\n",
    "import numpy as np\n",
    "df = pd.read_csv('client_dataset.csv')\n",
    "\n",
    "df.head()"
   ]
  },
  {
   "cell_type": "code",
   "execution_count": 4,
   "id": "71b9bbd2",
   "metadata": {},
   "outputs": [
    {
     "name": "stdout",
     "output_type": "stream",
     "text": [
      "Column names: ['first', 'last', 'job', 'phone', 'email', 'client_id', 'order_id', 'order_date', 'order_week', 'order_year', 'item_id', 'category', 'subcategory', 'unit_price', 'unit_cost', 'unit_weight', 'qty', 'line_number']\n"
     ]
    }
   ],
   "source": [
    "# View the column names in the data\n",
    "print(\"Column names:\", df.columns.tolist())\n"
   ]
  },
  {
   "cell_type": "code",
   "execution_count": 5,
   "id": "bc0f4172",
   "metadata": {},
   "outputs": [
    {
     "name": "stdout",
     "output_type": "stream",
     "text": [
      "          client_id      order_id    order_week    order_year    unit_price     unit_cost   unit_weight           qty   line_number\n",
      "count  54639.000000  5.463900e+04  54639.000000  54639.000000  54639.000000  54639.000000  54639.000000  5.463900e+04  54639.000000\n",
      "mean   54837.869416  5.470190e+06     11.359139   2022.993064    136.267207     99.446073      5.004116  5.702646e+02      2.979667\n",
      "std    25487.438231  2.599807e+06      7.023499      0.082997    183.873135    133.164267      5.326599  1.879552e+04      2.436320\n",
      "min    10033.000000  1.000886e+06      1.000000   2022.000000      0.010000      0.010000      0.000000  0.000000e+00      0.000000\n",
      "25%    33593.000000  3.196372e+06      6.000000   2023.000000     20.800000     14.840000      1.450000  3.200000e+01      1.000000\n",
      "50%    53305.000000  5.496966e+06     11.000000   2023.000000     68.310000     49.890000      3.240000  6.800000e+01      3.000000\n",
      "75%    78498.000000  7.733869e+06     17.000000   2023.000000    173.160000    125.570000      6.890000  1.700000e+02      5.000000\n",
      "max    99984.000000  9.998480e+06     52.000000   2023.000000   1396.230000    846.270000     46.430000  3.958244e+06      9.000000\n"
     ]
    }
   ],
   "source": [
    "# Use the describe function to gather some basic statistics\n",
    "pd.set_option('display.width', 1000)  # Adjust as necessary for your display\n",
    "pd.set_option('display.max_columns', None)  # Ensure all columns are shown\n",
    "statistics = df.describe()\n",
    "print(statistics)"
   ]
  },
  {
   "cell_type": "code",
   "execution_count": 6,
   "id": "b24b53cc",
   "metadata": {},
   "outputs": [
    {
     "name": "stdout",
     "output_type": "stream",
     "text": [
      "First few rows of the dataset:\n",
      "       first      last                    job               phone                                email  client_id  order_id  order_date  order_week  order_year         item_id     category         subcategory  unit_price  unit_cost  unit_weight  qty  line_number\n",
      "0     Donald   Harding           Immunologist  793-904-7725x39308     harding.donald.7185@sullivan.com      58515   8953482  2023-04-28          17        2023  EUD29711-63-6U        decor            wall art     1096.80     762.71         7.50  105            1\n",
      "1    Tiffany     Myers        Music therapist    201.442.4543x942    myers.t.6537@ferguson-johnson.net      37609   8069089  2023-05-19          20        2023  XDA18116-89-4A  consumables                pens       24.95      15.09         1.49   21            0\n",
      "2    Shannon    Watson           Immunologist   687.737.9424x8503                swatson8146@payne.net      57113   1902144  2023-01-29           4        2023  ABE59463-05-7E     software  project management       13.52       7.86         1.68   39            6\n",
      "3     Nathan     Baker  Accounting technician    827-788-8123x012               bakernathan@benson.com      46554   9031802  2023-04-25          17        2023  ZMM00836-65-0C  consumables                pens       36.42      24.85         1.23   29            3\n",
      "4  Christina  Schwartz           Chiropractor        265-829-3643  christinaschwartz9252@mcconnell.com      92089   1322274  2023-05-28          21        2023  BZX55559-12-3X  consumables                misc      195.10     108.17        46.43   20            1\n",
      "\n",
      "Data types of each column:\n",
      "first           object\n",
      "last            object\n",
      "job             object\n",
      "phone           object\n",
      "email           object\n",
      "client_id        int64\n",
      "order_id         int64\n",
      "order_date      object\n",
      "order_week       int64\n",
      "order_year       int64\n",
      "item_id         object\n",
      "category        object\n",
      "subcategory     object\n",
      "unit_price     float64\n",
      "unit_cost      float64\n",
      "unit_weight    float64\n",
      "qty              int64\n",
      "line_number      int64\n",
      "dtype: object\n",
      "\n",
      "Missing values in each column:\n",
      "first          0\n",
      "last           0\n",
      "job            0\n",
      "phone          0\n",
      "email          0\n",
      "client_id      0\n",
      "order_id       0\n",
      "order_date     0\n",
      "order_week     0\n",
      "order_year     0\n",
      "item_id        0\n",
      "category       0\n",
      "subcategory    0\n",
      "unit_price     0\n",
      "unit_cost      0\n",
      "unit_weight    0\n",
      "qty            0\n",
      "line_number    0\n",
      "dtype: int64\n"
     ]
    }
   ],
   "source": [
    "# Use this space to do any additional research\n",
    "# and familiarize yourself with the data.\n",
    "\n",
    "# Display the first few rows to get a feel for the data\n",
    "print(\"First few rows of the dataset:\")\n",
    "print(df.head())\n",
    "\n",
    "# Display the data types of each column to understand what kind of data you're working with\n",
    "print(\"\\nData types of each column:\")\n",
    "print(df.dtypes)\n",
    "\n",
    "# Check for missing values in each column\n",
    "print(\"\\nMissing values in each column:\")\n",
    "print(df.isnull().sum())\n",
    "\n"
   ]
  },
  {
   "cell_type": "code",
   "execution_count": 7,
   "id": "551cb358",
   "metadata": {},
   "outputs": [
    {
     "name": "stdout",
     "output_type": "stream",
     "text": [
      "Top three item categories with the most entries:\n",
      "category\n",
      "consumables    23538\n",
      "furniture      11915\n",
      "software        8400\n",
      "Name: count, dtype: int64\n"
     ]
    }
   ],
   "source": [
    "# What three item categories had the most entries?\n",
    "\n",
    "category_counts = df['category'].value_counts()\n",
    "\n",
    "# Select the top three categories\n",
    "top_three_categories = category_counts.head(3)\n",
    "\n",
    "# Display the top three categories\n",
    "print(\"Top three item categories with the most entries:\")\n",
    "print(top_three_categories)"
   ]
  },
  {
   "cell_type": "code",
   "execution_count": 8,
   "id": "5f54e2cf",
   "metadata": {},
   "outputs": [
    {
     "name": "stdout",
     "output_type": "stream",
     "text": [
      "The category with the most entries is: consumables\n",
      "Within 'consumables', the subcategory with the most entries is: bathroom supplies with 6424 entries.\n"
     ]
    }
   ],
   "source": [
    "# For the category with the most entries,\n",
    "\n",
    "\n",
    "\n",
    "top_category = df['category'].value_counts().idxmax()\n",
    "\n",
    "# Filter the dataset for only rows belonging to the top category\n",
    "top_category_data = df[df['category'] == top_category]\n",
    "\n",
    "# Count the occurrences of each subcategory within the top category\n",
    "subcategory_counts = top_category_data['subcategory'].value_counts()\n",
    "\n",
    "# # Identify the category with the most entries\n",
    "top_category = df['category'].value_counts().idxmax()\n",
    "\n",
    "# Filter the dataset for only rows belonging to the top category\n",
    "top_category_data = df[df['category'] == top_category]\n",
    "\n",
    "# Count the occurrences of each subcategory within the top category\n",
    "subcategory_counts = top_category_data['subcategory'].value_counts()\n",
    "\n",
    "# Identify the subcategory with the most entries\n",
    "top_subcategory = subcategory_counts.idxmax()\n",
    "\n",
    "\n",
    "\n",
    "# Display the results\n",
    "print(f\"The category with the most entries is: {top_category}\")\n",
    "print(f\"Within '{top_category}', the subcategory with the most entries is: {top_subcategory} with {subcategory_counts[top_subcategory]} entries.\")"
   ]
  },
  {
   "cell_type": "code",
   "execution_count": 9,
   "id": "2db94379",
   "metadata": {},
   "outputs": [
    {
     "name": "stdout",
     "output_type": "stream",
     "text": [
      "Top five clients with the most entries:\n",
      "client_id\n",
      "33615    220\n",
      "66037    211\n",
      "46820    209\n",
      "38378    207\n",
      "24741    207\n",
      "Name: count, dtype: int64\n"
     ]
    }
   ],
   "source": [
    "# Which five clients had the most entries in the data?\n",
    "\n",
    "# Assuming 'ClientID' is the column that identifies each client\n",
    "# Count the occurrences of each client and sort them in descending order\n",
    "client_counts = df['client_id'].value_counts()\n",
    "\n",
    "# Select the top five clients\n",
    "top_five_clients = client_counts.head(5)\n",
    "\n",
    "# Display the top five clients\n",
    "print(\"Top five clients with the most entries:\")\n",
    "print(top_five_clients)"
   ]
  },
  {
   "cell_type": "code",
   "execution_count": 10,
   "id": "a6635601",
   "metadata": {},
   "outputs": [
    {
     "name": "stdout",
     "output_type": "stream",
     "text": [
      "Client IDs of the top five clients with the most entries:\n",
      "[33615, 66037, 46820, 38378, 24741]\n"
     ]
    }
   ],
   "source": [
    "# Store the client ids of those top 5 clients in a list.\n",
    "# Select the top five clients\n",
    "top_five_clients = client_counts.head(5)\n",
    "\n",
    "# Get the client IDs of the top five clients and convert to a list\n",
    "top_five_client_ids = top_five_clients.index.tolist()\n",
    "\n",
    "# Display the list of top five client IDs\n",
    "print(\"Client IDs of the top five clients with the most entries:\")\n",
    "print(top_five_client_ids)\n"
   ]
  },
  {
   "cell_type": "code",
   "execution_count": 11,
   "id": "c88b8a3e",
   "metadata": {},
   "outputs": [
    {
     "name": "stdout",
     "output_type": "stream",
     "text": [
      "Total units ordered by the client with the most entries (Client ID 33615):\n",
      "64313\n"
     ]
    }
   ],
   "source": [
    "# How many total units (the qty column) did the\n",
    "# client with the most entries order order?\n",
    "top_client_id = df['client_id'].value_counts().idxmax()\n",
    "# Filter the DataFrame for entries belonging to the top client\n",
    "top_client_data = df[df['client_id'] == top_client_id]\n",
    "\n",
    "# Sum up the 'qty' column for the top client's data\n",
    "total_units_ordered = top_client_data['qty'].sum()\n",
    "\n",
    "# Display the result\n",
    "print(f\"Total units ordered by the client with the most entries (Client ID {top_client_id}):\")\n",
    "print(total_units_ordered)"
   ]
  },
  {
   "cell_type": "markdown",
   "id": "257fcd7d",
   "metadata": {},
   "source": [
    "## Part 2: Transform the Data\n",
    "Do we know that this client spent the more money than client 66037? If not, how would we find out? Transform the data using the steps below to prepare it for analysis."
   ]
  },
  {
   "cell_type": "code",
   "execution_count": 12,
   "id": "0c25c4a8",
   "metadata": {},
   "outputs": [
    {
     "name": "stdout",
     "output_type": "stream",
     "text": [
      "       first      last                    job               phone                                email  client_id  order_id  order_date  order_week  order_year         item_id     category         subcategory  unit_price  unit_cost  unit_weight  qty  line_number   subtotal\n",
      "0     Donald   Harding           Immunologist  793-904-7725x39308     harding.donald.7185@sullivan.com      58515   8953482  2023-04-28          17        2023  EUD29711-63-6U        decor            wall art     1096.80     762.71         7.50  105            1  115164.00\n",
      "1    Tiffany     Myers        Music therapist    201.442.4543x942    myers.t.6537@ferguson-johnson.net      37609   8069089  2023-05-19          20        2023  XDA18116-89-4A  consumables                pens       24.95      15.09         1.49   21            0     523.95\n",
      "2    Shannon    Watson           Immunologist   687.737.9424x8503                swatson8146@payne.net      57113   1902144  2023-01-29           4        2023  ABE59463-05-7E     software  project management       13.52       7.86         1.68   39            6     527.28\n",
      "3     Nathan     Baker  Accounting technician    827-788-8123x012               bakernathan@benson.com      46554   9031802  2023-04-25          17        2023  ZMM00836-65-0C  consumables                pens       36.42      24.85         1.23   29            3    1056.18\n",
      "4  Christina  Schwartz           Chiropractor        265-829-3643  christinaschwartz9252@mcconnell.com      92089   1322274  2023-05-28          21        2023  BZX55559-12-3X  consumables                misc      195.10     108.17        46.43   20            1    3902.00\n"
     ]
    }
   ],
   "source": [
    "# Create a column that calculates the \n",
    "# subtotal for each line using the unit_price\n",
    "# and the qty\n",
    "\n",
    "df['subtotal'] = df['unit_price'] * df['qty']\n",
    "print(df.head())"
   ]
  },
  {
   "cell_type": "code",
   "execution_count": 13,
   "id": "ac9dafc8",
   "metadata": {},
   "outputs": [
    {
     "name": "stdout",
     "output_type": "stream",
     "text": [
      "       first      last                    job               phone                                email  client_id  order_id  order_date  order_week  order_year         item_id     category         subcategory  unit_price  unit_cost  unit_weight  qty  line_number   subtotal  total_weight  shipping_price\n",
      "0     Donald   Harding           Immunologist  793-904-7725x39308     harding.donald.7185@sullivan.com      58515   8953482  2023-04-28          17        2023  EUD29711-63-6U        decor            wall art     1096.80     762.71         7.50  105            1  115164.00        787.50         5512.50\n",
      "1    Tiffany     Myers        Music therapist    201.442.4543x942    myers.t.6537@ferguson-johnson.net      37609   8069089  2023-05-19          20        2023  XDA18116-89-4A  consumables                pens       24.95      15.09         1.49   21            0     523.95         31.29          312.90\n",
      "2    Shannon    Watson           Immunologist   687.737.9424x8503                swatson8146@payne.net      57113   1902144  2023-01-29           4        2023  ABE59463-05-7E     software  project management       13.52       7.86         1.68   39            6     527.28         65.52          458.64\n",
      "3     Nathan     Baker  Accounting technician    827-788-8123x012               bakernathan@benson.com      46554   9031802  2023-04-25          17        2023  ZMM00836-65-0C  consumables                pens       36.42      24.85         1.23   29            3    1056.18         35.67          356.70\n",
      "4  Christina  Schwartz           Chiropractor        265-829-3643  christinaschwartz9252@mcconnell.com      92089   1322274  2023-05-28          21        2023  BZX55559-12-3X  consumables                misc      195.10     108.17        46.43   20            1    3902.00        928.60         6500.20\n"
     ]
    }
   ],
   "source": [
    "# Create a column for shipping price.\n",
    "# Assume a shipping price of $7 per pound\n",
    "# for orders over 50 pounds and $10 per\n",
    "# pound for items 50 pounds or under.\n",
    "df['total_weight'] = df['unit_weight'] * df['qty']\n",
    "df['shipping_price'] = np.where(df['total_weight'] > 50, df['total_weight'] * 7, df['total_weight'] * 10)\n",
    "print(df.head())"
   ]
  },
  {
   "cell_type": "code",
   "execution_count": 14,
   "id": "77f42c67",
   "metadata": {},
   "outputs": [
    {
     "name": "stdout",
     "output_type": "stream",
     "text": [
      "       first      last                    job               phone                                email  client_id  order_id  order_date  order_week  order_year         item_id     category         subcategory  unit_price  unit_cost  unit_weight  qty  line_number   subtotal  total_weight  shipping_price    total_price\n",
      "0     Donald   Harding           Immunologist  793-904-7725x39308     harding.donald.7185@sullivan.com      58515   8953482  2023-04-28          17        2023  EUD29711-63-6U        decor            wall art     1096.80     762.71         7.50  105            1  115164.00        787.50         5512.50  131839.076250\n",
      "1    Tiffany     Myers        Music therapist    201.442.4543x942    myers.t.6537@ferguson-johnson.net      37609   8069089  2023-05-19          20        2023  XDA18116-89-4A  consumables                pens       24.95      15.09         1.49   21            0     523.95         31.29          312.90     914.258625\n",
      "2    Shannon    Watson           Immunologist   687.737.9424x8503                swatson8146@payne.net      57113   1902144  2023-01-29           4        2023  ABE59463-05-7E     software  project management       13.52       7.86         1.68   39            6     527.28         65.52          458.64    1077.117600\n",
      "3     Nathan     Baker  Accounting technician    827-788-8123x012               bakernathan@benson.com      46554   9031802  2023-04-25          17        2023  ZMM00836-65-0C  consumables                pens       36.42      24.85         1.23   29            3    1056.18         35.67          356.70    1543.571400\n",
      "4  Christina  Schwartz           Chiropractor        265-829-3643  christinaschwartz9252@mcconnell.com      92089   1322274  2023-05-28          21        2023  BZX55559-12-3X  consumables                misc      195.10     108.17        46.43   20            1    3902.00        928.60         6500.20   11364.403500\n"
     ]
    }
   ],
   "source": [
    "# Create a column for the total price\n",
    "# using the subtotal and the shipping price\n",
    "# along with a sales tax of 9.25%\n",
    "\n",
    "sales_tax_rate = 0.0925\n",
    "df['total_price'] = (df['subtotal'] + df['shipping_price']) * (1 + sales_tax_rate)\n",
    "print(df.head())"
   ]
  },
  {
   "cell_type": "code",
   "execution_count": 16,
   "id": "c82ad275",
   "metadata": {},
   "outputs": [
    {
     "name": "stdout",
     "output_type": "stream",
     "text": [
      "       first      last                    job               phone                                email  client_id  order_id  order_date  order_week  order_year         item_id     category         subcategory  unit_price  unit_cost  unit_weight  qty  line_number   subtotal  total_weight  shipping_price    total_price  line_cost\n",
      "0     Donald   Harding           Immunologist  793-904-7725x39308     harding.donald.7185@sullivan.com      58515   8953482  2023-04-28          17        2023  EUD29711-63-6U        decor            wall art     1096.80     762.71         7.50  105            1  115164.00        787.50         5512.50  131839.076250   85597.05\n",
      "1    Tiffany     Myers        Music therapist    201.442.4543x942    myers.t.6537@ferguson-johnson.net      37609   8069089  2023-05-19          20        2023  XDA18116-89-4A  consumables                pens       24.95      15.09         1.49   21            0     523.95         31.29          312.90     914.258625     629.79\n",
      "2    Shannon    Watson           Immunologist   687.737.9424x8503                swatson8146@payne.net      57113   1902144  2023-01-29           4        2023  ABE59463-05-7E     software  project management       13.52       7.86         1.68   39            6     527.28         65.52          458.64    1077.117600     765.18\n",
      "3     Nathan     Baker  Accounting technician    827-788-8123x012               bakernathan@benson.com      46554   9031802  2023-04-25          17        2023  ZMM00836-65-0C  consumables                pens       36.42      24.85         1.23   29            3    1056.18         35.67          356.70    1543.571400    1077.35\n",
      "4  Christina  Schwartz           Chiropractor        265-829-3643  christinaschwartz9252@mcconnell.com      92089   1322274  2023-05-28          21        2023  BZX55559-12-3X  consumables                misc      195.10     108.17        46.43   20            1    3902.00        928.60         6500.20   11364.403500    8663.60\n"
     ]
    }
   ],
   "source": [
    "# Create a column for the cost\n",
    "# of each line using unit cost, qty, and\n",
    "# shipping price (assume the shipping cost\n",
    "# is exactly what is charged to the client).\n",
    "\n",
    "df['line_cost'] = (df['unit_cost'] * df['qty']) + df['shipping_price']\n",
    "print(df.head())"
   ]
  },
  {
   "cell_type": "code",
   "execution_count": 19,
   "id": "e2389018",
   "metadata": {},
   "outputs": [
    {
     "name": "stdout",
     "output_type": "stream",
     "text": [
      "       first      last                    job               phone                                email  client_id  order_id  order_date  order_week  order_year         item_id     category         subcategory  unit_price  unit_cost  unit_weight  qty  line_number   subtotal  total_weight  shipping_price    total_price  line_cost        profit\n",
      "0     Donald   Harding           Immunologist  793-904-7725x39308     harding.donald.7185@sullivan.com      58515   8953482  2023-04-28          17        2023  EUD29711-63-6U        decor            wall art     1096.80     762.71         7.50  105            1  115164.00        787.50         5512.50  131839.076250   85597.05  46242.026250\n",
      "1    Tiffany     Myers        Music therapist    201.442.4543x942    myers.t.6537@ferguson-johnson.net      37609   8069089  2023-05-19          20        2023  XDA18116-89-4A  consumables                pens       24.95      15.09         1.49   21            0     523.95         31.29          312.90     914.258625     629.79    284.468625\n",
      "2    Shannon    Watson           Immunologist   687.737.9424x8503                swatson8146@payne.net      57113   1902144  2023-01-29           4        2023  ABE59463-05-7E     software  project management       13.52       7.86         1.68   39            6     527.28         65.52          458.64    1077.117600     765.18    311.937600\n",
      "3     Nathan     Baker  Accounting technician    827-788-8123x012               bakernathan@benson.com      46554   9031802  2023-04-25          17        2023  ZMM00836-65-0C  consumables                pens       36.42      24.85         1.23   29            3    1056.18         35.67          356.70    1543.571400    1077.35    466.221400\n",
      "4  Christina  Schwartz           Chiropractor        265-829-3643  christinaschwartz9252@mcconnell.com      92089   1322274  2023-05-28          21        2023  BZX55559-12-3X  consumables                misc      195.10     108.17        46.43   20            1    3902.00        928.60         6500.20   11364.403500    8663.60   2700.803500\n"
     ]
    }
   ],
   "source": [
    "# Create a column for the profit of\n",
    "# each line using line cost and line price\n",
    "\n",
    "df['profit'] = df['total_price'] - df['line_cost']\n",
    "print(df.head())"
   ]
  },
  {
   "cell_type": "markdown",
   "id": "ef6f62b1",
   "metadata": {},
   "source": [
    "## Part 3: Confirm your work\n",
    "You have email receipts showing that the total prices for 3 orders. Confirm that your calculations match the receipts. Remember, each order has multiple lines.\n",
    "\n",
    "Order ID 2742071 had a total price of \\$152,811.89\n",
    "\n",
    "Order ID 2173913 had a total price of \\$162,388.71\n",
    "\n",
    "Order ID 6128929 had a total price of \\$923,441.25\n"
   ]
  },
  {
   "cell_type": "code",
   "execution_count": 20,
   "id": "c0e5d68e",
   "metadata": {},
   "outputs": [
    {
     "name": "stdout",
     "output_type": "stream",
     "text": [
      "Calculated total price for Order ID 2742071: $152,811.90\n",
      "Calculated total price for Order ID 2173913: $162,388.72\n",
      "Calculated total price for Order ID 6128929: $923,441.24\n"
     ]
    }
   ],
   "source": [
    "# Check your work using the totals above\n",
    "order_totals = df.groupby('order_id')['total_price'].sum().reset_index()\n",
    "order_ids_to_check = [2742071, 2173913, 6128929]\n",
    "for order_id in order_ids_to_check:\n",
    "    calculated_total = order_totals.loc[order_totals['order_id'] == order_id, 'total_price'].iloc[0]\n",
    "    print(f\"Calculated total price for Order ID {order_id}: ${calculated_total:,.2f}\")"
   ]
  },
  {
   "cell_type": "markdown",
   "id": "b94d58ab",
   "metadata": {},
   "source": [
    "## Part 4: Summarize and Analyze\n",
    "Use the new columns with confirmed values to find the following information."
   ]
  },
  {
   "cell_type": "code",
   "execution_count": 28,
   "id": "7c005f34",
   "metadata": {},
   "outputs": [
    {
     "name": "stdout",
     "output_type": "stream",
     "text": [
      "33615: $8,377,308.57\n",
      "66037: $10,259,514.80\n",
      "46820: $9,743,794.32\n",
      "38378: $12,906,550.88\n",
      "24741: $82,268,891.98\n"
     ]
    }
   ],
   "source": [
    "# How much did each of the top 5 clients by quantity\n",
    "# spend? Check your work from Part 1 for client ids.\n",
    "top_5_client_ids = [33615, 66037, 46820, 38378, 24741]\n",
    "total_spending_by_top_clients = df[df['client_id'].isin(top_5_client_ids)] \\\n",
    "    .groupby('client_id')['total_price'].sum()\n",
    "for client_id in top_5_client_ids:  # Ensures order matches your list\n",
    "    spending = total_spending_by_top_clients.loc[client_id]\n",
    "    print(f\"{client_id}: ${spending:,.2f}\")"
   ]
  },
  {
   "cell_type": "code",
   "execution_count": 35,
   "id": "81b6e4d2",
   "metadata": {},
   "outputs": [
    {
     "data": {
      "text/html": [
       "<style type=\"text/css\">\n",
       "</style>\n",
       "<table id=\"T_bcd4e\">\n",
       "  <thead>\n",
       "    <tr>\n",
       "      <th class=\"blank level0\" >&nbsp;</th>\n",
       "      <th id=\"T_bcd4e_level0_col0\" class=\"col_heading level0 col0\" >client_id</th>\n",
       "      <th id=\"T_bcd4e_level0_col1\" class=\"col_heading level0 col1\" >total_units_purchased</th>\n",
       "      <th id=\"T_bcd4e_level0_col2\" class=\"col_heading level0 col2\" >total_shipping_price</th>\n",
       "      <th id=\"T_bcd4e_level0_col3\" class=\"col_heading level0 col3\" >total_revenue</th>\n",
       "      <th id=\"T_bcd4e_level0_col4\" class=\"col_heading level0 col4\" >total_profit</th>\n",
       "    </tr>\n",
       "  </thead>\n",
       "  <tbody>\n",
       "    <tr>\n",
       "      <th id=\"T_bcd4e_level0_row0\" class=\"row_heading level0 row0\" >0</th>\n",
       "      <td id=\"T_bcd4e_row0_col0\" class=\"data row0 col0\" >24741</td>\n",
       "      <td id=\"T_bcd4e_row0_col1\" class=\"data row0 col1\" >239,862.00</td>\n",
       "      <td id=\"T_bcd4e_row0_col2\" class=\"data row0 col2\" >$5,126,448.37</td>\n",
       "      <td id=\"T_bcd4e_row0_col3\" class=\"data row0 col3\" >$82,268,891.98</td>\n",
       "      <td id=\"T_bcd4e_row0_col4\" class=\"data row0 col4\" >$36,579,992.27</td>\n",
       "    </tr>\n",
       "    <tr>\n",
       "      <th id=\"T_bcd4e_level0_row1\" class=\"row_heading level0 row1\" >2</th>\n",
       "      <td id=\"T_bcd4e_row1_col0\" class=\"data row1 col0\" >38378</td>\n",
       "      <td id=\"T_bcd4e_row1_col1\" class=\"data row1 col1\" >73,667.00</td>\n",
       "      <td id=\"T_bcd4e_row1_col2\" class=\"data row1 col2\" >$3,429,455.40</td>\n",
       "      <td id=\"T_bcd4e_row1_col3\" class=\"data row1 col3\" >$12,906,550.88</td>\n",
       "      <td id=\"T_bcd4e_row1_col4\" class=\"data row1 col4\" >$3,271,829.90</td>\n",
       "    </tr>\n",
       "    <tr>\n",
       "      <th id=\"T_bcd4e_level0_row2\" class=\"row_heading level0 row2\" >4</th>\n",
       "      <td id=\"T_bcd4e_row2_col0\" class=\"data row2 col0\" >66037</td>\n",
       "      <td id=\"T_bcd4e_row2_col1\" class=\"data row2 col1\" >43,018.00</td>\n",
       "      <td id=\"T_bcd4e_row2_col2\" class=\"data row2 col2\" >$1,395,151.85</td>\n",
       "      <td id=\"T_bcd4e_row2_col3\" class=\"data row2 col3\" >$10,259,514.80</td>\n",
       "      <td id=\"T_bcd4e_row2_col4\" class=\"data row2 col4\" >$3,255,031.82</td>\n",
       "    </tr>\n",
       "    <tr>\n",
       "      <th id=\"T_bcd4e_level0_row3\" class=\"row_heading level0 row3\" >3</th>\n",
       "      <td id=\"T_bcd4e_row3_col0\" class=\"data row3 col0\" >46820</td>\n",
       "      <td id=\"T_bcd4e_row3_col1\" class=\"data row3 col1\" >75,768.00</td>\n",
       "      <td id=\"T_bcd4e_row3_col2\" class=\"data row3 col2\" >$1,601,448.84</td>\n",
       "      <td id=\"T_bcd4e_row3_col3\" class=\"data row3 col3\" >$9,743,794.32</td>\n",
       "      <td id=\"T_bcd4e_row3_col4\" class=\"data row3 col4\" >$2,736,602.68</td>\n",
       "    </tr>\n",
       "    <tr>\n",
       "      <th id=\"T_bcd4e_level0_row4\" class=\"row_heading level0 row4\" >1</th>\n",
       "      <td id=\"T_bcd4e_row4_col0\" class=\"data row4 col0\" >33615</td>\n",
       "      <td id=\"T_bcd4e_row4_col1\" class=\"data row4 col1\" >64,313.00</td>\n",
       "      <td id=\"T_bcd4e_row4_col2\" class=\"data row4 col2\" >$1,828,984.89</td>\n",
       "      <td id=\"T_bcd4e_row4_col3\" class=\"data row4 col3\" >$8,377,308.57</td>\n",
       "      <td id=\"T_bcd4e_row4_col4\" class=\"data row4 col4\" >$2,201,994.66</td>\n",
       "    </tr>\n",
       "  </tbody>\n",
       "</table>\n"
      ],
      "text/plain": [
       "<pandas.io.formats.style.Styler at 0x15011105fc0>"
      ]
     },
     "execution_count": 35,
     "metadata": {},
     "output_type": "execute_result"
    }
   ],
   "source": [
    "# Create a summary DataFrame showing the totals for the\n",
    "# for the top 5 clients with the following information:\n",
    "# total units purchased, total shipping price,\n",
    "# total revenue, and total profit. Sort by total profit.\n",
    "\n",
    "top_5_client_ids = [33615, 66037, 46820, 38378, 24741]\n",
    "ttop_5_df = df[df['client_id'].isin(top_5_client_ids)]\n",
    "summary = top_5_df.groupby('client_id').agg(\n",
    "    total_units_purchased=('qty', 'sum'),\n",
    "    total_shipping_price=('shipping_price', 'sum'),\n",
    "    total_revenue=('total_price', 'sum'),\n",
    "    total_profit=('profit', 'sum')\n",
    ").reset_index()\n",
    "summary_sorted = summary.sort_values(by='total_profit', ascending=False)\n",
    "formatted_summary = summary_sorted.style.format({\n",
    "    'total_units_purchased': '{:,.2f}',\n",
    "    'total_shipping_price': '${:,.2f}',\n",
    "    'total_revenue': '${:,.2f}',\n",
    "    'total_profit': '${:,.2f}'\n",
    "})\n",
    "formatted_summary"
   ]
  },
  {
   "cell_type": "code",
   "execution_count": 37,
   "id": "7be02867",
   "metadata": {},
   "outputs": [
    {
     "name": "stdout",
     "output_type": "stream",
     "text": [
      "   Client ID  Total Units Purchased Total Shipping Price (M$) Total Revenue (M$) Total Profit (M$)\n",
      "0      24741                 239862                    $5.13M            $82.27M           $36.58M\n",
      "2      38378                  73667                    $3.43M            $12.91M            $3.27M\n",
      "4      66037                  43018                    $1.40M            $10.26M            $3.26M\n",
      "3      46820                  75768                    $1.60M             $9.74M            $2.74M\n",
      "1      33615                  64313                    $1.83M             $8.38M            $2.20M\n"
     ]
    }
   ],
   "source": [
    "# Format the data and rename the columns\n",
    "# to names suitable for presentation.\n",
    "# Currency should be in millions of dollars.\n",
    "summary_for_presentation = summary_sorted.rename(columns={\n",
    "    'client_id': 'Client ID',\n",
    "    'total_units_purchased': 'Total Units Purchased',\n",
    "    'total_shipping_price': 'Total Shipping Price (M$)',\n",
    "    'total_revenue': 'Total Revenue (M$)',\n",
    "    'total_profit': 'Total Profit (M$)'\n",
    "    })\n",
    "summary_for_presentation['Total Shipping Price (M$)'] = summary_for_presentation['Total Shipping Price (M$)'].apply(lambda x: f\"${x / 1_000_000:.2f}M\")\n",
    "summary_for_presentation['Total Revenue (M$)'] = summary_for_presentation['Total Revenue (M$)'].apply(lambda x: f\"${x / 1_000_000:.2f}M\")\n",
    "summary_for_presentation['Total Profit (M$)'] = summary_for_presentation['Total Profit (M$)'].apply(lambda x: f\"${x / 1_000_000:.2f}M\")\n",
    "print(summary_for_presentation)"
   ]
  },
  {
   "cell_type": "code",
   "execution_count": 38,
   "id": "8ead0986",
   "metadata": {},
   "outputs": [
    {
     "name": "stdout",
     "output_type": "stream",
     "text": [
      "   Client ID  Total Units Purchased Total Shipping Price (M$) Total Revenue (M$) Total Profit (M$)\n",
      "0      24741                 239862                    $5.13M            $82.27M           $36.58M\n",
      "2      38378                  73667                    $3.43M            $12.91M            $3.27M\n",
      "4      66037                  43018                    $1.40M            $10.26M            $3.26M\n",
      "3      46820                  75768                    $1.60M             $9.74M            $2.74M\n",
      "1      33615                  64313                    $1.83M             $8.38M            $2.20M\n"
     ]
    }
   ],
   "source": [
    "# Sort the updated data by \"Total Profit\" form highest to lowest\n",
    "summary_sorted_by_profit = summary_sorted.sort_values(by='total_profit', ascending=False)\n",
    "summary_for_presentation = summary_sorted_by_profit.rename(columns={\n",
    "    'client_id': 'Client ID',\n",
    "    'total_units_purchased': 'Total Units Purchased',\n",
    "    'total_shipping_price': 'Total Shipping Price (M$)',\n",
    "    'total_revenue': 'Total Revenue (M$)',\n",
    "    'total_profit': 'Total Profit (M$)'\n",
    "})\n",
    "summary_for_presentation['Total Shipping Price (M$)'] = summary_for_presentation['Total Shipping Price (M$)'].apply(lambda x: f\"${x / 1_000_000:.2f}M\")\n",
    "summary_for_presentation['Total Revenue (M$)'] = summary_for_presentation['Total Revenue (M$)'].apply(lambda x: f\"${x / 1_000_000:.2f}M\")\n",
    "summary_for_presentation['Total Profit (M$)'] = summary_for_presentation['Total Profit (M$)'].apply(lambda x: f\"${x / 1_000_000:.2f}M\")\n",
    "print(summary_for_presentation)"
   ]
  },
  {
   "cell_type": "code",
   "execution_count": null,
   "id": "6589d63c",
   "metadata": {},
   "outputs": [],
   "source": [
    "# Write a brief 2-3 sentence summary of your findings.\n",
    "# My findings are -\n",
    "#The analysis reveals significant variance in spending among the top 5 clients, with client 24741 contributing the most at approximately $82.27 million. \n",
    "#Client 38378 emerges as the most profitable, indicating the strategic importance of these clients to overall business success. \n",
    "#This underscores the need for targeted engagement and personalized strategies to sustain and grow these key client relationships."
   ]
  }
 ],
 "metadata": {
  "kernelspec": {
   "display_name": "Python 3 (ipykernel)",
   "language": "python",
   "name": "python3"
  },
  "language_info": {
   "codemirror_mode": {
    "name": "ipython",
    "version": 3
   },
   "file_extension": ".py",
   "mimetype": "text/x-python",
   "name": "python",
   "nbconvert_exporter": "python",
   "pygments_lexer": "ipython3",
   "version": "3.10.13"
  }
 },
 "nbformat": 4,
 "nbformat_minor": 5
}
